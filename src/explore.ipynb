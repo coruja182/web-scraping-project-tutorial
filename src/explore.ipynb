{
    "cells": [
        {
            "cell_type": "markdown",
            "metadata": {},
            "source": [
                "# Explore here\n",
                "\n",
                "It's recommended to use this notebook for exploration purposes."
            ]
        },
        {
            "cell_type": "markdown",
            "metadata": {},
            "source": [
                "Some documentation to read:\n",
                "\n",
                "* [beautifulsoup - navigating the tree](https://beautiful-soup-4.readthedocs.io/en/latest/#navigating-the-tree)\n",
                "* [beautifulsoup - output](https://beautiful-soup-4.readthedocs.io/en/latest/#get-text)"
            ]
        },
        {
            "cell_type": "code",
            "execution_count": null,
            "metadata": {},
            "outputs": [],
            "source": [
                "from bs4 import BeautifulSoup\n",
                "import requests\n",
                "import pandas as pd\n",
                "import time\n",
                "# we have defined our imports and functions we need to use"
            ]
        },
        {
            "cell_type": "code",
            "execution_count": null,
            "metadata": {},
            "outputs": [],
            "source": [
                "url = \"https://es.wikipedia.org/wiki/Leucocito\"\n",
                "html_data = requests.get(url, time.sleep(2)).text\n",
                "html_data\n",
                "# we have retrieved the wikipedia page data and stored in a variable\n"
            ]
        },
        {
            "cell_type": "code",
            "execution_count": null,
            "metadata": {},
            "outputs": [],
            "source": [
                "soup = BeautifulSoup(html_data)\n",
                "html_table = soup.find(\"table\",{\"class\":\"wikitable\"})\n",
                "html_table\n",
                "# we have found the body of the table we want\n"
            ]
        },
        {
            "cell_type": "code",
            "execution_count": null,
            "metadata": {},
            "outputs": [],
            "source": [
                "for row_index, row in enumerate(html_table.tbody.find_all('tr')):\n",
                "   print(row_index, row)\n",
                "\n",
                "# pay attention that the first row (index==0) contains the TH tags with are the headers of our table\n",
                "# in HTML:\n",
                "# - the tag TH (it is not always used) are usually for table cells as headers\n",
                "# - the tag TD are usually for normal cells\n",
                "\n",
                "# according to the beautiful soup docs, I have found three ways to get a tag's children (content).\n",
                "# .children\n",
                "# .contents\n",
                "# .find_all(<tag-name>)\n",
                "\n",
                "# we have now achieved how to iterate all the rows in the html table, let's try to extract each cell text and put it in an list, so we can created a pandas DataFrame"
            ]
        },
        {
            "cell_type": "code",
            "execution_count": null,
            "metadata": {},
            "outputs": [],
            "source": [
                "arr_data = []\n",
                "\n",
                "# iterating every tr tag of the table tbody\n",
                "for row_index, row in enumerate(html_table.tbody.find_all('tr')):\n",
                "   arr_cells_data = []\n",
                "   if row_index == 0:\n",
                "\n",
                "      # here we are inside a TR row with some TH cells, we need to iterate it and add its text to the result array\n",
                "      for cell in row.find_all('th'):\n",
                "         arr_cells_data.append(cell.get_text(strip=True))\n",
                "   else:\n",
                "\n",
                "      # here we are inside a TR row with some TD cells, we need to iterate it and add its text to the result array\n",
                "      for cell in row.find_all('td'):\n",
                "         arr_cells_data.append(cell.get_text(strip=True))\n",
                "   \n",
                "   arr_data.append(arr_cells_data)\n",
                "\n",
                "\n",
                "arr_data\n",
                "\n",
                "# we have now extracted all the text of table and stored in a bidimensional array, like a DataFrame\n",
                "# we know the first row (row 0) are the headers\n",
                "# (of course I could easily make this code smaller by using list map functions, there are some parts of the code that I feel like I am repeating myself)\n",
                "\n",
                "# ps.: during the analysis of this code I noticed that the methods '.children()' and '.contents()' retrieved some empty nodes instead of the 'td' and 'th' tags\n",
                "# so, looking at the documentation I realized they are called NavigableStrings, not texts. Long story short, better to use the find_all() and look for the tags we want as return"
            ]
        },
        {
            "cell_type": "code",
            "execution_count": null,
            "metadata": {},
            "outputs": [],
            "source": [
                "# now we create a pandas datafrma by using our array of data\n",
                "# we can also specify the colum names by slicing the array (getting the first row only for the column names)\n",
                "\n",
                "df = pd.DataFrame(arr_data[1:], columns=arr_data[:1])\n",
                "df"
            ]
        }
    ],
    "metadata": {
        "kernelspec": {
            "display_name": "Python 3.8.13 64-bit ('3.8.13')",
            "language": "python",
            "name": "python3"
        },
        "language_info": {
            "codemirror_mode": {
                "name": "ipython",
                "version": 3
            },
            "file_extension": ".py",
            "mimetype": "text/x-python",
            "name": "python",
            "nbconvert_exporter": "python",
            "pygments_lexer": "ipython3",
            "version": "3.11.9"
        },
        "orig_nbformat": 4,
        "vscode": {
            "interpreter": {
                "hash": "110cc1dee26208153f2972f08a2ad52b6a56238dc66d48e87fb757ef2996db56"
            }
        }
    },
    "nbformat": 4,
    "nbformat_minor": 2
}
